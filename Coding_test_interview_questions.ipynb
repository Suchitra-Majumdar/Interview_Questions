{
 "cells": [
  {
   "cell_type": "code",
   "execution_count": null,
   "metadata": {},
   "outputs": [],
   "source": []
  },
  {
   "cell_type": "code",
   "execution_count": 1,
   "metadata": {},
   "outputs": [
    {
     "name": "stdout",
     "output_type": "stream",
     "text": [
      "[98, 82, 78, 55, 28, 13, 6, 4]\n"
     ]
    }
   ],
   "source": [
    "#To arrange the numbers in the given list in descending order without using any inbuilt library\n",
    "num_list = [2,4,6,78,28,82,98,13,55]\n",
    "new_arr = []\n",
    "highest = 0\n",
    "for i in range(len(num_list)-1):\n",
    "    for i in num_list:\n",
    "        if i > highest:\n",
    "            highest = i\n",
    "    new_arr.append(highest)\n",
    "    num_list.remove(highest)\n",
    "    highest = 0\n",
    "print(new_arr)"
   ]
  },
  {
   "cell_type": "markdown",
   "metadata": {},
   "source": [
    "## Bubble Sort\n",
    "\n",
    "### A bubble sort is a simple sorting algorithm that repeatedly steps through the list, compares adjacent elements and swaps them if they are in the wrong order. The pass through the list is repeated until the list is sorted. This simple algorithm performs poorly in real-world use and is used primarily as an educational tool. Programming languages like Python, JAVA etc offer more efficient sorting libraries."
   ]
  },
  {
   "cell_type": "code",
   "execution_count": 7,
   "metadata": {},
   "outputs": [
    {
     "name": "stdout",
     "output_type": "stream",
     "text": [
      "[99, 56, 51, 5, 3, 2, 1]\n"
     ]
    }
   ],
   "source": [
    "nums=[3,5,51,56,99,1,2]\n",
    "while True:\n",
    "    sort=0\n",
    "    for x in range(0,len(nums)-1):\n",
    "        if nums[x]<nums[x+1]:\n",
    "            nums[x],nums[x+1]=nums[x+1],nums[x]\n",
    "            sort=1\n",
    "    if sort==0:\n",
    "        print(nums)\n",
    "        break"
   ]
  },
  {
   "cell_type": "code",
   "execution_count": 3,
   "metadata": {},
   "outputs": [
    {
     "name": "stdout",
     "output_type": "stream",
     "text": [
      "[99, 78, 43, 8, 7, 6, 5, 4, 3, 1]\n"
     ]
    }
   ],
   "source": [
    "nums = [3,5,7,8,43,1,78,6,99,4]\n",
    "while True:\n",
    "    sort = 0\n",
    "    for x in range(len(nums)-1):\n",
    "        if nums[x]<nums[x+1]:\n",
    "            nums[x],nums[x+1] = nums[x+1],nums[x]\n",
    "            sort=1\n",
    "    if sort==0:\n",
    "        print(nums)\n",
    "        break\n",
    "    \n",
    "        "
   ]
  },
  {
   "cell_type": "markdown",
   "metadata": {},
   "source": [
    "### Insertion sort"
   ]
  },
  {
   "cell_type": "code",
   "execution_count": null,
   "metadata": {},
   "outputs": [],
   "source": [
    "def insertionsort(arr):\n",
    "    for i in range(1,len(arr)):\n",
    "        key=arr[i]\n",
    "        j = i-1\n",
    "        while j>=0 and key<arr[j]:\n",
    "            arr[j+1]=arr[j]\n",
    "            j-=1\n",
    "        arr[j+1]=key\n",
    "    return arr\n",
    "result = insertionsort([10,30,2,])\n",
    "result"
   ]
  },
  {
   "cell_type": "code",
   "execution_count": null,
   "metadata": {},
   "outputs": [],
   "source": []
  },
  {
   "cell_type": "code",
   "execution_count": 12,
   "metadata": {},
   "outputs": [
    {
     "name": "stdout",
     "output_type": "stream",
     "text": [
      "\n",
      "1 \n",
      "1 2 \n",
      "1 2 3 \n",
      "1 2 3 4 \n",
      "1 2 3 4 5 \n",
      "1 2 3 4 5 6 \n",
      "1 2 3 4 5 6 7 \n",
      "1 2 3 4 5 6 7 8 \n",
      "1 2 3 4 5 6 7 8 9 \n",
      "1 2 3 4 5 6 7 8 9 10 \n"
     ]
    }
   ],
   "source": [
    "for i in range(11):\n",
    "    for j in range(i):\n",
    "        print(j+1,end=\" \")\n",
    "    print()"
   ]
  },
  {
   "cell_type": "code",
   "execution_count": 9,
   "metadata": {},
   "outputs": [
    {
     "name": "stdout",
     "output_type": "stream",
     "text": [
      "\n",
      "1 \n",
      "1 2 \n",
      "1 2 3 \n",
      "1 2 3 4 \n",
      "1 2 3 4 5 \n",
      "1 2 3 4 5 6 \n",
      "1 2 3 4 5 6 7 \n",
      "1 2 3 4 5 6 7 8 \n",
      "1 2 3 4 5 6 7 8 9 \n",
      "1 2 3 4 5 6 7 8 9 10 \n",
      "1 2 3 4 5 6 7 8 9 \n",
      "1 2 3 4 5 6 7 8 \n",
      "1 2 3 4 5 6 7 \n",
      "1 2 3 4 5 6 \n",
      "1 2 3 4 5 \n",
      "1 2 3 4 \n",
      "1 2 3 \n",
      "1 2 \n",
      "1 \n",
      "\n"
     ]
    }
   ],
   "source": [
    "for i in range(11):\n",
    "    for j in range(i):\n",
    "        print(j+1,end=\" \")\n",
    "    print()\n",
    "\n",
    "for i in reversed(range(10)):\n",
    "    for j in range(i):\n",
    "        print(j+1,end=\" \")\n",
    "    print()"
   ]
  },
  {
   "cell_type": "code",
   "execution_count": 10,
   "metadata": {},
   "outputs": [
    {
     "name": "stdout",
     "output_type": "stream",
     "text": [
      "\n",
      "1 \n",
      "1 2 \n",
      "1 2 3 \n",
      "1 2 3 4 \n",
      "1 2 3 4 5 \n",
      "1 2 3 4 5 6 \n",
      "1 2 3 4 5 6 7 \n",
      "1 2 3 4 5 6 7 8 \n",
      "1 2 3 4 5 6 7 8 9 \n",
      "1 2 3 4 5 6 7 8 9 10 \n",
      "1 2 3 4 5 6 7 8 9 \n",
      "1 2 3 4 5 6 7 8 \n",
      "1 2 3 4 5 6 7 \n",
      "1 2 3 4 5 6 \n",
      "1 2 3 4 5 \n",
      "1 2 3 4 \n",
      "1 2 3 \n",
      "1 2 \n",
      "1 \n",
      "\n"
     ]
    }
   ],
   "source": [
    "for i in range(11):\n",
    "    for j in range(i):\n",
    "        print(j+1,end=\" \")\n",
    "    print()\n",
    "# print(i)\n",
    "# for i in reversed(range(10)):\n",
    "while True:\n",
    "    for j in range(i-1):\n",
    "        print(j+1,end=\" \")\n",
    "    print()\n",
    "    i-=1\n",
    "    if i==0:\n",
    "        break\n",
    "    "
   ]
  },
  {
   "cell_type": "markdown",
   "metadata": {},
   "source": [
    "### The Sieve of Eratosthenes"
   ]
  },
  {
   "cell_type": "markdown",
   "metadata": {},
   "source": [
    "The Algorithm Explained\n",
    "\n",
    "Step 1: Define a range of numbers (Example: 1to 100)\n",
    "\n",
    "Step 1: Exclude 1, because 1 is not a prime.\n",
    "\n",
    "Step 3: Include 2 and exclude out all multiples of 2. (2, 4, 6, 8, 10, ...)\n",
    "\n",
    "Step 4: Include 3 and exclude out all multiples of 3. ...\n",
    "\n",
    "Step 5: Include 5 and exclude out all multiples of 5. ...\n",
    "\n",
    "Step 6: Include 7 and exclude out all multiples of 7.\n",
    "\n",
    "Step 7: Include 11 and exclude out all multiples of 11."
   ]
  },
  {
   "cell_type": "code",
   "execution_count": 2,
   "metadata": {},
   "outputs": [
    {
     "data": {
      "text/plain": [
       "{2: None, 3: None, 4: None, 5: None, 6: None, 7: None, 8: None, 9: None}"
      ]
     },
     "execution_count": 2,
     "metadata": {},
     "output_type": "execute_result"
    }
   ],
   "source": [
    "dict.fromkeys(range(2,10))"
   ]
  },
  {
   "cell_type": "code",
   "execution_count": 5,
   "metadata": {},
   "outputs": [
    {
     "name": "stdout",
     "output_type": "stream",
     "text": [
      "Enter start of the numbers1\n",
      "Enter end of the numbers100\n",
      "******************************\n",
      "\n",
      "Prime Numbers from 1 to 100\n",
      "[2, 3, 5, 7, 11, 13, 17, 19, 23, 29, 31, 37, 41, 43, 47, 53, 59, 61, 67, 71, 73, 79, 83, 89, 97]\n"
     ]
    }
   ],
   "source": [
    "start = int(input(\"Enter start of the numbers\"))\n",
    "end = int(input(\"Enter end of the numbers\"))\n",
    "numbers = dict.fromkeys(range(start,end))\n",
    "for n in numbers:\n",
    "    if n > 1:\n",
    "        if n%2==0:\n",
    "            if n!=2:\n",
    "                numbers[n]='not prime'\n",
    "        if n%3==0:\n",
    "            if n!=3:\n",
    "                numbers[n]='not prime'\n",
    "        if n%5==0:\n",
    "            if n!=5:\n",
    "                numbers[n]='not prime'\n",
    "        if n%7==0:\n",
    "            if n!=7:\n",
    "                numbers[n]='not prime'\n",
    "        if n%11==0:\n",
    "            if n!=11:\n",
    "                numbers[n]='not prime'\n",
    "    else:\n",
    "        numbers[n]='not prime'\n",
    "        \n",
    "print(\"*\" * 30)\n",
    "print(f\"\\nPrime Numbers from {start} to {end}\")\n",
    "print([n for (n,v) in numbers.items() if v is None])"
   ]
  },
  {
   "cell_type": "code",
   "execution_count": null,
   "metadata": {},
   "outputs": [],
   "source": []
  }
 ],
 "metadata": {
  "kernelspec": {
   "display_name": "Python 3",
   "language": "python",
   "name": "python3"
  },
  "language_info": {
   "codemirror_mode": {
    "name": "ipython",
    "version": 3
   },
   "file_extension": ".py",
   "mimetype": "text/x-python",
   "name": "python",
   "nbconvert_exporter": "python",
   "pygments_lexer": "ipython3",
   "version": "3.8.5"
  }
 },
 "nbformat": 4,
 "nbformat_minor": 4
}
