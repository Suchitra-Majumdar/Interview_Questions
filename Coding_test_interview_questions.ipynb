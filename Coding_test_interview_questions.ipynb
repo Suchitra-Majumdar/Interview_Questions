{
 "cells": [
  {
   "cell_type": "code",
   "execution_count": null,
   "metadata": {},
   "outputs": [],
   "source": []
  },
  {
   "cell_type": "code",
   "execution_count": 1,
   "metadata": {},
   "outputs": [
    {
     "name": "stdout",
     "output_type": "stream",
     "text": [
      "[98, 82, 78, 55, 28, 13, 6, 4]\n"
     ]
    }
   ],
   "source": [
    "#To arrange the numbers in the given list in descending order without using any inbuilt library\n",
    "num_list = [2,4,6,78,28,82,98,13,55]\n",
    "new_arr = []\n",
    "highest = 0\n",
    "for i in range(len(num_list)-1):\n",
    "    for i in num_list:\n",
    "        if i > highest:\n",
    "            highest = i\n",
    "    new_arr.append(highest)\n",
    "    num_list.remove(highest)\n",
    "    highest = 0\n",
    "print(new_arr)"
   ]
  },
  {
   "cell_type": "code",
   "execution_count": null,
   "metadata": {},
   "outputs": [],
   "source": []
  }
 ],
 "metadata": {
  "kernelspec": {
   "display_name": "Python 3",
   "language": "python",
   "name": "python3"
  },
  "language_info": {
   "codemirror_mode": {
    "name": "ipython",
    "version": 3
   },
   "file_extension": ".py",
   "mimetype": "text/x-python",
   "name": "python",
   "nbconvert_exporter": "python",
   "pygments_lexer": "ipython3",
   "version": "3.8.5"
  }
 },
 "nbformat": 4,
 "nbformat_minor": 4
}
