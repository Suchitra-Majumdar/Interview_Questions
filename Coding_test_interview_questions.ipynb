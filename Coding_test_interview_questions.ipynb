{
 "cells": [
  {
   "cell_type": "code",
   "execution_count": null,
   "metadata": {},
   "outputs": [],
   "source": []
  },
  {
   "cell_type": "code",
   "execution_count": 1,
   "metadata": {},
   "outputs": [
    {
     "name": "stdout",
     "output_type": "stream",
     "text": [
      "[98, 82, 78, 55, 28, 13, 6, 4]\n"
     ]
    }
   ],
   "source": [
    "#To arrange the numbers in the given list in descending order without using any inbuilt library\n",
    "num_list = [2,4,6,78,28,82,98,13,55]\n",
    "new_arr = []\n",
    "highest = 0\n",
    "for i in range(len(num_list)-1):\n",
    "    for i in num_list:\n",
    "        if i > highest:\n",
    "            highest = i\n",
    "    new_arr.append(highest)\n",
    "    num_list.remove(highest)\n",
    "    highest = 0\n",
    "print(new_arr)"
   ]
  },
  {
   "cell_type": "markdown",
   "metadata": {},
   "source": [
    "## Bubble Sort\n",
    "\n",
    "### A bubble sort is a simple sorting algorithm that repeatedly steps through the list, compares adjacent elements and swaps them if they are in the wrong order. The pass through the list is repeated until the list is sorted. This simple algorithm performs poorly in real-world use and is used primarily as an educational tool. Programming languages like Python, JAVA etc offer more efficient sorting libraries."
   ]
  },
  {
   "cell_type": "code",
   "execution_count": 3,
   "metadata": {},
   "outputs": [
    {
     "name": "stdout",
     "output_type": "stream",
     "text": [
      "[99, 78, 43, 8, 7, 6, 5, 4, 3, 1]\n"
     ]
    }
   ],
   "source": [
    "nums = [3,5,7,8,43,1,78,6,99,4]\n",
    "while True:\n",
    "    sort = 0\n",
    "    for x in range(len(nums)-1):\n",
    "        if nums[x]<nums[x+1]:\n",
    "            nums[x],nums[x+1] = nums[x+1],nums[x]\n",
    "            sort=1\n",
    "    if sort==0:\n",
    "        print(nums)\n",
    "        break\n",
    "    \n",
    "        "
   ]
  },
  {
   "cell_type": "code",
   "execution_count": null,
   "metadata": {},
   "outputs": [],
   "source": []
  }
 ],
 "metadata": {
  "kernelspec": {
   "display_name": "Python 3",
   "language": "python",
   "name": "python3"
  },
  "language_info": {
   "codemirror_mode": {
    "name": "ipython",
    "version": 3
   },
   "file_extension": ".py",
   "mimetype": "text/x-python",
   "name": "python",
   "nbconvert_exporter": "python",
   "pygments_lexer": "ipython3",
   "version": "3.8.5"
  }
 },
 "nbformat": 4,
 "nbformat_minor": 4
}
